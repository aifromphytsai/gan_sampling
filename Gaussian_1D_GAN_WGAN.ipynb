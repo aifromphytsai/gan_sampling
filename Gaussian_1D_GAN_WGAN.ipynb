{
 "cells": [
  {
   "cell_type": "markdown",
   "metadata": {},
   "source": [
    "# A simple GAN to generate samples from Gaussian distribution (WGAN)\n",
    "References:\n",
    "1. https://github.com/togheppi/vanilla_GAN\n",
    "2. https://github.com/ericjang/genadv_tutorial/blob/master/genadv1.ipynb\n",
    "3. https://machinelearningmastery.com/how-to-develop-a-generative-adversarial-network-for-a-1-dimensional-function-from-scratch-in-keras/\n",
    "4. https://blog.aylien.com/introduction-generative-adversarial-networks-code-tensorflow/\n",
    "5. https://github.com/kremerj/gan\n",
    "6. https://github.com/igul222/improved_wgan_training\n",
    "7. https://github.com/AYLIEN/gan-intro/blob/master/gan.py"
   ]
  },
  {
   "cell_type": "code",
   "execution_count": 1,
   "metadata": {},
   "outputs": [],
   "source": [
    "import numpy as np\n",
    "import matplotlib.pyplot as plt\n",
    "import os\n",
    "from scipy.stats import norm\n",
    "import torch\n",
    "import torch.nn as nn\n",
    "from torch.autograd import Variable"
   ]
  },
  {
   "cell_type": "markdown",
   "metadata": {},
   "source": [
    "## Understand target distribution: Gaussian distribution"
   ]
  },
  {
   "cell_type": "code",
   "execution_count": 2,
   "metadata": {},
   "outputs": [
    {
     "data": {
      "text/plain": [
       "[<matplotlib.lines.Line2D at 0x7f70af3a0320>]"
      ]
     },
     "execution_count": 2,
     "metadata": {},
     "output_type": "execute_result"
    },
    {
     "data": {
      "image/png": "[encoded data removed]",
      "text/plain": [
       "<Figure size 432x288 with 1 Axes>"
      ]
     },
     "metadata": {
      "needs_background": "light"
     },
     "output_type": "display_data"
    }
   ],
   "source": [
    "mu,sigma = 0,1\n",
    "num_samples = 1000\n",
    "xs = np.linspace(-5, 5, num_samples) # interval = 10/1000=0.01\n",
    "samples = norm.pdf(xs, mu, sigma)\n",
    "plt.plot(xs, samples)"
   ]
  },
  {
   "cell_type": "markdown",
   "metadata": {},
   "source": [
    "## Classes for data sampling"
   ]
  },
  {
   "cell_type": "code",
   "execution_count": 3,
   "metadata": {},
   "outputs": [],
   "source": [
    "# Real data distribution\n",
    "class RealDistribution:\n",
    "    def __init__(self, mu, sigma):\n",
    "        self.mu = mu\n",
    "        self.sigma = sigma\n",
    "\n",
    "    def sample(self, num_samples):\n",
    "        samples = np.random.normal(self.mu, self.sigma, num_samples)\n",
    "        samples.sort()\n",
    "        \n",
    "        return samples\n",
    "\n",
    "# Noise data distribution as inputs for the generator\n",
    "class NoiseDistribution:\n",
    "    def __init__(self, data_range):\n",
    "        self.data_range = data_range\n",
    "\n",
    "    def sample(self, num_samples):\n",
    "        offset = np.random.random(num_samples)*0.01 # Random floats with uniform dist. in the interval [0.0, 0.01)\n",
    "        samples = np.linspace(-self.data_range, self.data_range, num_samples) + offset\n",
    "        \n",
    "        return samples"
   ]
  },
  {
   "cell_type": "markdown",
   "metadata": {},
   "source": [
    "## Generator"
   ]
  },
  {
   "cell_type": "code",
   "execution_count": 4,
   "metadata": {},
   "outputs": [],
   "source": [
    "class Generator(nn.Module):\n",
    "    def __init__(self, input_dim, hidden_dim, output_dim):\n",
    "        super(Generator, self).__init__()\n",
    "\n",
    "        # Fully-connected layer\n",
    "        fc = nn.Linear(input_dim, hidden_dim, bias=True)\n",
    "        # initializer\n",
    "        nn.init.normal_(fc.weight)\n",
    "        nn.init.constant_(fc.bias, 0.0)\n",
    "        # Hidden layer\n",
    "        self.hidden_layer = nn.Sequential(fc, nn.ReLU())\n",
    "        # Output layer\n",
    "        self.output_layer = nn.Linear(hidden_dim, output_dim, bias=True)\n",
    "        # initializer\n",
    "        nn.init.normal_(self.output_layer.weight)\n",
    "        nn.init.constant_(self.output_layer.bias, 0.0)\n",
    "\n",
    "    def forward(self, x):\n",
    "        h = self.hidden_layer(x)\n",
    "        out = self.output_layer(h)\n",
    "        \n",
    "        return out"
   ]
  },
  {
   "cell_type": "markdown",
   "metadata": {},
   "source": [
    "## Discriminator"
   ]
  },
  {
   "cell_type": "code",
   "execution_count": 5,
   "metadata": {},
   "outputs": [],
   "source": [
    "class Discriminator(nn.Module):\n",
    "    def __init__(self, input_dim, hidden_dim, output_dim):\n",
    "        super(Discriminator, self).__init__()\n",
    "\n",
    "        # Fully-connected layer\n",
    "        fc1 = nn.Linear(input_dim, hidden_dim, bias=True)\n",
    "        # initializer\n",
    "        nn.init.normal_(fc1.weight)\n",
    "        nn.init.constant_(fc1.bias, 0.0)\n",
    "        # Hidden layer\n",
    "        self.hidden_layer = nn.Sequential(fc1, nn.ReLU())\n",
    "        # Fully-connected layer\n",
    "        fc2 = nn.Linear(hidden_dim, output_dim, bias=True)\n",
    "        # initializer\n",
    "        nn.init.normal_(fc2.weight)\n",
    "        nn.init.constant_(fc2.bias, 0.0)\n",
    "        # Output layer\n",
    "        self.output_layer = nn.Sequential(fc2, nn.Sigmoid())\n",
    "\n",
    "    def forward(self, x):\n",
    "        h = self.hidden_layer(x)\n",
    "        out = self.output_layer(h)\n",
    "        \n",
    "        return out"
   ]
  },
  {
   "cell_type": "markdown",
   "metadata": {},
   "source": [
    "## TestSample class"
   ]
  },
  {
   "cell_type": "code",
   "execution_count": 6,
   "metadata": {},
   "outputs": [],
   "source": [
    "# Test samples\n",
    "class TestSample:\n",
    "    def __init__(self, discriminator, generator, realD, data_range, batch_size, num_samples, num_bins):\n",
    "        self.D = discriminator\n",
    "        self.G = generator\n",
    "        self.realD = realD\n",
    "        self.bs = batch_size\n",
    "        self.num_samples = num_samples\n",
    "        self.num_bins = num_bins\n",
    "        self.xs = np.linspace(-data_range, data_range, num_samples)\n",
    "        self.bins = np.linspace(-data_range, data_range, num_bins)\n",
    "\n",
    "    def decision_boundary(self):\n",
    "        db = np.zeros((self.num_samples, 1))\n",
    "        for i in range(self.num_samples // self.bs):\n",
    "            x_ = self.xs[self.bs*i:self.bs*(i+1)]\n",
    "            x_ = Variable(torch.FloatTensor(np.reshape(x_, [self.bs, 1])))\n",
    "\n",
    "            db[self.bs*i:self.bs*(i+1)] = self.D(x_).detach().numpy()\n",
    "\n",
    "        return db\n",
    "\n",
    "    def real_distribution(self):\n",
    "        d = self.realD.sample(self.num_samples)\n",
    "        p_data, _ = np.histogram(d, self.bins, density=True)\n",
    "        \n",
    "        return p_data\n",
    "\n",
    "    def gen_distribution(self):\n",
    "        zs = self.xs\n",
    "        g = np.zeros((self.num_samples, 1))\n",
    "        for i in range(self.num_samples // self.bs):\n",
    "            z_ = zs[self.bs*i:self.bs*(i+1)]\n",
    "            z_ = Variable(torch.FloatTensor(np.reshape(z_, [self.bs, 1])))\n",
    "            g[self.bs*i:self.bs*(i+1)] = self.G(z_).detach().numpy()\n",
    "\n",
    "        p_gen, _ = np.histogram(g, self.bins, density=True)\n",
    "        \n",
    "        return p_gen"
   ]
  },
  {
   "cell_type": "markdown",
   "metadata": {},
   "source": [
    "## Display class "
   ]
  },
  {
   "cell_type": "code",
   "execution_count": 7,
   "metadata": {},
   "outputs": [],
   "source": [
    "class Display:\n",
    "    def __init__(self, num_samples, num_bins, data_range, mu, sigma):\n",
    "        self.num_samples = num_samples\n",
    "        self.num_bins = num_bins\n",
    "        self.data_range = data_range\n",
    "        self.mu = mu\n",
    "        self.sigma = sigma\n",
    "\n",
    "    def plot_result(self, db_pre_trained, db_trained, p_data, p_gen):\n",
    "        d_x = np.linspace(-self.data_range, self.data_range, len(db_trained))\n",
    "        p_x = np.linspace(-self.data_range, self.data_range, len(p_data))\n",
    "\n",
    "        f, ax = plt.subplots(1)\n",
    "        ax.plot(d_x, db_pre_trained, '--', label='Decision boundary (pre-trained)')\n",
    "        ax.plot(d_x, db_trained, label='Decision boundary')\n",
    "        ax.set_ylim(0, max(1, np.max(p_data)*2.0))\n",
    "        ax.set_xlim(self.mu-self.data_range*1.0, self.mu+self.data_range*1.0)\n",
    "        plt.plot(p_x, p_data, label='Real data')\n",
    "        plt.plot(p_x, p_gen, label='Generated data')\n",
    "        plt.title('Gaussian Approximation using GAN: ' + '(mu: %3g,' % self.mu + ' sigma: %3g)' % self.sigma)\n",
    "        plt.xlabel('Data values')\n",
    "        plt.ylabel('Probability density')\n",
    "        plt.legend(loc=1)\n",
    "        plt.grid(True)\n",
    "\n",
    "        # Save plot\n",
    "        #save_dir = \"results/\"\n",
    "        #if not os.path.exists(save_dir):\n",
    "        #    os.mkdir(save_dir)\n",
    "        #plt.savefig(save_dir + '1D_Gaussian' + '_mu_%g' % self.mu + '_sigma_%g' % self.sigma + '.png')\n",
    "\n",
    "        plt.show()"
   ]
  },
  {
   "cell_type": "markdown",
   "metadata": {},
   "source": [
    "## Pretrain discriminator"
   ]
  },
  {
   "cell_type": "code",
   "execution_count": 8,
   "metadata": {},
   "outputs": [],
   "source": [
    "# Hyper-parameters\n",
    "mu = 0.0\n",
    "sigma = 1.0\n",
    "data_range = 5\n",
    "batch_size = 10\n",
    "\n",
    "input_dim = 1\n",
    "hidden_dim = 32\n",
    "output_dim = 1\n",
    "num_epochs = 2000\n",
    "num_epochs_pre = 2000\n",
    "learning_rate = 0.0005\n",
    "clip_value=0.01 # lower and upper clip value for disc. weights"
   ]
  },
  {
   "cell_type": "code",
   "execution_count": 9,
   "metadata": {},
   "outputs": [
    {
     "name": "stdout",
     "output_type": "stream",
     "text": [
      "0 2.59987735748291\n",
      "100 1.7442317008972168\n",
      "200 0.7282986640930176\n",
      "300 0.5082221031188965\n",
      "400 0.4539446234703064\n",
      "500 0.49046286940574646\n",
      "600 0.4887300431728363\n",
      "700 0.44195839762687683\n",
      "800 0.4162100553512573\n",
      "900 0.4682247042655945\n",
      "1000 0.3882659077644348\n",
      "1100 0.45464542508125305\n",
      "1200 0.384795218706131\n",
      "1300 0.41424351930618286\n",
      "1400 0.40324142575263977\n",
      "1500 0.4240504801273346\n",
      "1600 0.390084832906723\n",
      "1700 0.4405815899372101\n",
      "1800 0.3986511528491974\n",
      "1900 0.42834827303886414\n"
     ]
    },
    {
     "data": {
      "image/png": "[encoded data removed]",
      "text/plain": [
       "<Figure size 432x288 with 1 Axes>"
      ]
     },
     "metadata": {
      "needs_background": "light"
     },
     "output_type": "display_data"
    }
   ],
   "source": [
    "# Samples\n",
    "realData = RealDistribution(mu, sigma)     # via np.random.normal\n",
    "noiseData = NoiseDistribution(data_range)  # unfiorm plus some variations\n",
    "\n",
    "# Create models\n",
    "G = Generator(input_dim, hidden_dim, output_dim)\n",
    "D = Discriminator(input_dim, hidden_dim, output_dim)\n",
    "\n",
    "# Loss function (WGAN loss)\n",
    "pre_criterion = torch.nn.BCELoss()\n",
    "\n",
    "# optimizer\n",
    "optimizer = torch.optim.Adam(D.parameters(), lr=learning_rate)\n",
    "\n",
    "num_samples_pre = 1000\n",
    "num_bins_pre = 100 # number of equal-width bins in a histogram\n",
    "D_pre_losses = []\n",
    "for epoch in range(num_epochs_pre):\n",
    "    # Generate samples\n",
    "    real = realData.sample(num_samples_pre)\n",
    "    histc, edges = np.histogram(real, num_bins_pre, density=True)\n",
    "\n",
    "    # Estimate pdf\n",
    "    max_histc = np.max(histc)\n",
    "    min_histc = np.min(histc)\n",
    "    y_ = (histc - min_histc) / (max_histc - min_histc)  # normalize y_ to range [0,1]\n",
    "    #print('len of y_: ', len(y_), ', y_: ', y_)\n",
    "    x_ = edges[1:]\n",
    "\n",
    "    x_ = Variable(torch.FloatTensor(np.reshape(x_, [num_bins_pre, input_dim])))\n",
    "    y_ = Variable(torch.FloatTensor(np.reshape(y_, [num_bins_pre, output_dim])))\n",
    "\n",
    "    # Train D model\n",
    "    optimizer.zero_grad()\n",
    "    D_pre_decision = D(x_)\n",
    "    D_pre_loss = pre_criterion(D_pre_decision, y_)\n",
    "    D_pre_loss.backward()\n",
    "    optimizer.step()\n",
    "\n",
    "    # Save loss values for plot\n",
    "    D_pre_losses.append(D_pre_loss.item())\n",
    "\n",
    "    if epoch % 100 == 0:\n",
    "        print(epoch, D_pre_loss.item())\n",
    "    #print(epoch, D_pre_loss.item())\n",
    "\n",
    "# Plot loss\n",
    "fig, ax = plt.subplots()\n",
    "losses = np.array(D_pre_losses)\n",
    "plt.plot(losses, label='Pre-train loss')\n",
    "plt.title(\"Pre-training Loss\")\n",
    "plt.legend()\n",
    "plt.show()"
   ]
  },
  {
   "cell_type": "code",
   "execution_count": 10,
   "metadata": {},
   "outputs": [],
   "source": [
    "# Test sample after pre-training (to be drawn later)\n",
    "num_samples = 10000\n",
    "num_bins = 20\n",
    "sample = TestSample(D, G, realData, data_range, batch_size, num_samples, num_bins)\n",
    "db_pre_trained = sample.decision_boundary()"
   ]
  },
  {
   "cell_type": "markdown",
   "metadata": {},
   "source": [
    "## Train GAN"
   ]
  },
  {
   "cell_type": "code",
   "execution_count": 11,
   "metadata": {},
   "outputs": [
    {
     "name": "stdout",
     "output_type": "stream",
     "text": [
      "epoch:0, D loss:-0.4765068292617798, G loss:-0.5001572966575623\n",
      "epoch:100, D loss:-0.0026709437370300293, G loss:-0.49631327390670776\n",
      "epoch:200, D loss:-0.0016632080078125, G loss:-0.49737149477005005\n",
      "epoch:300, D loss:-0.0006557703018188477, G loss:-0.49828824400901794\n",
      "epoch:400, D loss:-0.00016376376152038574, G loss:-0.49897199869155884\n",
      "epoch:500, D loss:-2.2411346435546875e-05, G loss:-0.4990719258785248\n",
      "epoch:600, D loss:1.5228986740112305e-05, G loss:-0.4991214871406555\n",
      "epoch:700, D loss:-1.3947486877441406e-05, G loss:-0.49907392263412476\n",
      "epoch:800, D loss:6.67870044708252e-05, G loss:-0.49912771582603455\n",
      "epoch:900, D loss:-1.1593103408813477e-05, G loss:-0.4990815222263336\n",
      "epoch:1000, D loss:3.740191459655762e-05, G loss:-0.498951256275177\n",
      "epoch:1100, D loss:6.681680679321289e-05, G loss:-0.49908989667892456\n",
      "epoch:1200, D loss:5.59687614440918e-05, G loss:-0.49913492798805237\n",
      "epoch:1300, D loss:5.221366882324219e-05, G loss:-0.4991482198238373\n",
      "epoch:1400, D loss:7.280707359313965e-05, G loss:-0.4991382956504822\n",
      "epoch:1500, D loss:0.00017452239990234375, G loss:-0.49920862913131714\n",
      "epoch:1600, D loss:0.00010311603546142578, G loss:-0.4991537034511566\n",
      "epoch:1700, D loss:0.00010520219802856445, G loss:-0.4991573393344879\n",
      "epoch:1800, D loss:7.665157318115234e-05, G loss:-0.4991724491119385\n",
      "epoch:1900, D loss:0.00013947486877441406, G loss:-0.4991522431373596\n"
     ]
    }
   ],
   "source": [
    "# Optimizers\n",
    "D_optimizer = torch.optim.Adam(D.parameters(), lr=learning_rate)\n",
    "G_optimizer = torch.optim.Adam(G.parameters(), lr=learning_rate)\n",
    "\n",
    "D_losses = []\n",
    "G_losses = []\n",
    "for epoch in range(num_epochs):\n",
    "    # Generate samples\n",
    "    x_ = realData.sample(batch_size)\n",
    "    x_ = Variable(torch.FloatTensor(np.reshape(x_, [batch_size, input_dim])))\n",
    "    y_real_ = Variable(torch.ones([batch_size, output_dim]))\n",
    "    y_fake_ = Variable(torch.zeros([batch_size, output_dim]))\n",
    "\n",
    "    # Train discriminator with real data\n",
    "    D_real_decision = D(x_)\n",
    "    D_real_loss = torch.mean(D_real_decision)\n",
    "\n",
    "    # Train discriminator with fake data\n",
    "    z_ = noiseData.sample(batch_size)\n",
    "    z_ = Variable(torch.FloatTensor(np.reshape(z_, [batch_size, input_dim])))\n",
    "    z_ = G(z_)\n",
    "\n",
    "    D_fake_decision = D(z_)\n",
    "    D_fake_loss = torch.mean(D_fake_decision)\n",
    "\n",
    "    # Back propagation\n",
    "    D_loss = D_fake_loss-D_real_loss\n",
    "    D.zero_grad()\n",
    "    D_loss.backward()\n",
    "    D_optimizer.step()\n",
    "    \n",
    "    # Clip weights of discriminator\n",
    "    for p in D.parameters():\n",
    "        p.data.clamp_(-clip_value, clip_value)\n",
    "\n",
    "    # Train generator\n",
    "    z_ = noiseData.sample(batch_size)\n",
    "    z_ = Variable(torch.FloatTensor(np.reshape(z_, [batch_size, input_dim])))\n",
    "    z_ = G(z_)\n",
    "\n",
    "    D_fake_decision = D(z_)\n",
    "    G_loss = -torch.mean(D_fake_decision)\n",
    "\n",
    "    # Back propagation\n",
    "    D.zero_grad()\n",
    "    G.zero_grad()\n",
    "    G_loss.backward()\n",
    "    G_optimizer.step()\n",
    "\n",
    "    # Save loss values for plot\n",
    "    D_losses.append(D_loss.item())\n",
    "    G_losses.append(G_loss.item())\n",
    "\n",
    "    if epoch % 100 == 0:\n",
    "        print('epoch:{}, D loss:{}, G loss:{}'.format(epoch, D_loss.item(), G_loss.item()))"
   ]
  },
  {
   "cell_type": "code",
   "execution_count": 12,
   "metadata": {},
   "outputs": [
    {
     "data": {
      "image/png": "[encoded data removed]",
      "text/plain": [
       "<Figure size 432x288 with 1 Axes>"
      ]
     },
     "metadata": {
      "needs_background": "light"
     },
     "output_type": "display_data"
    }
   ],
   "source": [
    "# Plot losses\n",
    "fig, ax = plt.subplots()\n",
    "D_losses = np.array(D_losses)\n",
    "G_losses = np.array(G_losses)\n",
    "plt.plot(D_losses, label='Discriminator')\n",
    "plt.plot(G_losses, label='Generator')\n",
    "plt.title(\"Training Losses\")\n",
    "plt.legend()\n",
    "plt.show()"
   ]
  },
  {
   "cell_type": "markdown",
   "metadata": {},
   "source": [
    "## Evaluation"
   ]
  },
  {
   "cell_type": "code",
   "execution_count": 13,
   "metadata": {},
   "outputs": [
    {
     "data": {
      "image/png": "[encoded data removed]",
      "text/plain": [
       "<Figure size 432x288 with 1 Axes>"
      ]
     },
     "metadata": {
      "needs_background": "light"
     },
     "output_type": "display_data"
    }
   ],
   "source": [
    "# Test sample after GAN-training\n",
    "sample = TestSample(D, G, realData, data_range, batch_size, num_samples, num_bins)\n",
    "db_trained = sample.decision_boundary()\n",
    "p_data = sample.real_distribution()\n",
    "p_gen = sample.gen_distribution()\n",
    "\n",
    "# Display result\n",
    "display = Display(num_samples, num_bins, data_range, mu, sigma)\n",
    "display.plot_result(db_pre_trained, db_trained, p_data, p_gen)"
   ]
  },
  {
   "cell_type": "markdown",
   "metadata": {},
   "source": [
    "## After GAN training, decision boundary ~ 0.5, indicating the generated data confuse disc."
   ]
  },
  {
   "cell_type": "code",
   "execution_count": null,
   "metadata": {},
   "outputs": [],
   "source": []
  }
 ],
 "metadata": {
  "kernelspec": {
   "display_name": "Python 3",
   "language": "python",
   "name": "python3"
  },
  "language_info": {
   "codemirror_mode": {
    "name": "ipython",
    "version": 3
   },
   "file_extension": ".py",
   "mimetype": "text/x-python",
   "name": "python",
   "nbconvert_exporter": "python",
   "pygments_lexer": "ipython3",
   "version": "3.7.3"
  }
 },
 "nbformat": 4,
 "nbformat_minor": 2
}
