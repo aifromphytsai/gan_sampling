{
 "cells": [
  {
   "cell_type": "markdown",
   "metadata": {},
   "source": [
    "# A Monte Carlo method to generate samples from Gaussian distribution\n",
    "\n",
    "References:\n",
    "1. https://en.wikipedia.org/wiki/Metropolis%E2%80%93Hastings_algorithm\n",
    "2. https://statweb.stanford.edu/~owen/mc/Ch-nonunifrng.pdf    "
   ]
  },
  {
   "cell_type": "code",
   "execution_count": 1,
   "metadata": {},
   "outputs": [],
   "source": [
    "from __future__ import division\n",
    "import numpy as np\n",
    "import math\n",
    "import numpy.random as npr\n",
    "import matplotlib.pyplot as plt\n",
    "import time\n",
    "%matplotlib inline"
   ]
  },
  {
   "cell_type": "code",
   "execution_count": 2,
   "metadata": {},
   "outputs": [],
   "source": [
    "# model parameters\n",
    "num_points = 10000\n",
    "data_range = 5\n",
    "mcSteps = 3000       # number of MC sweeps for calculation\n",
    "mu = 0\n",
    "sigma = 1.\n",
    "# target normal distribution (mu=0, sigma=1)\n",
    "def f(y):\n",
    "    return np.exp(-0.5* y**2)/np.sqrt(2*math.pi)"
   ]
  },
  {
   "cell_type": "code",
   "execution_count": 3,
   "metadata": {},
   "outputs": [
    {
     "data": {
      "text/plain": [
       "0.3989422804014327"
      ]
     },
     "execution_count": 3,
     "metadata": {},
     "output_type": "execute_result"
    }
   ],
   "source": [
    "f(0)"
   ]
  },
  {
   "cell_type": "code",
   "execution_count": 5,
   "metadata": {},
   "outputs": [],
   "source": [
    "# Choose c = 0.4 such that c > f(y) always\n",
    "def mcmove(x, c=0.4):\n",
    "    y = 2*data_range*npr.random(1)[0]-data_range\n",
    "    u = npr.random(1)[0]\n",
    "    if u < f(y)/c:\n",
    "        return y\n",
    "    else: \n",
    "        return x"
   ]
  },
  {
   "cell_type": "code",
   "execution_count": 6,
   "metadata": {},
   "outputs": [],
   "source": [
    "from tqdm import tqdm_notebook\n",
    "\n",
    "samples = []\n",
    "x = 2*data_range*npr.random(1)[0]-data_range\n",
    "while len(samples)< num_points: \n",
    "    y = mcmove(x)  # Monte Carlo moves                   \n",
    "    if y != x:\n",
    "        samples.append(y)\n",
    "    else: \n",
    "        x = y           "
   ]
  },
  {
   "cell_type": "code",
   "execution_count": 10,
   "metadata": {},
   "outputs": [],
   "source": [
    "def plot_result(sample_set):\n",
    "    sample_set = np.sort(np.array(sample_set))\n",
    "    bins = np.linspace(-data_range, data_range, 100)\n",
    "    p_gen, _ = np.histogram(sample_set, bins, density=True)\n",
    "    data = np.sort(npr.normal(mu, sigma, num_points))\n",
    "    p_data, _ = np.histogram(data, bins, density=True)\n",
    "    p_x = np.linspace(-data_range, data_range, len(p_gen))\n",
    "\n",
    "    f, ax = plt.subplots(1)\n",
    "    ax.set_ylim(0, max(1, np.max(p_gen)*2.0))\n",
    "    ax.set_xlim(mu-data_range*1.0, mu+data_range*1.0)\n",
    "    plt.plot(p_x, p_gen, label='MC data')\n",
    "    plt.plot(p_x, p_data, label='Gaussian data')\n",
    "    plt.title('Gaussian Approximation using MC')\n",
    "    plt.xlabel('Data values')\n",
    "    plt.ylabel('Probability density')\n",
    "    plt.legend(loc=1)\n",
    "    plt.grid(True)"
   ]
  },
  {
   "cell_type": "code",
   "execution_count": 8,
   "metadata": {},
   "outputs": [
    {
     "data": {
      "text/plain": [
       "10000"
      ]
     },
     "execution_count": 8,
     "metadata": {},
     "output_type": "execute_result"
    }
   ],
   "source": [
    "len(samples)"
   ]
  },
  {
   "cell_type": "code",
   "execution_count": 11,
   "metadata": {},
   "outputs": [
    {
     "data": {
      "image/png": "[encoded data removed]",
      "text/plain": [
       "<Figure size 432x288 with 1 Axes>"
      ]
     },
     "metadata": {
      "needs_background": "light"
     },
     "output_type": "display_data"
    }
   ],
   "source": [
    "plot_result(samples)"
   ]
  },
  {
   "cell_type": "code",
   "execution_count": null,
   "metadata": {},
   "outputs": [],
   "source": []
  }
 ],
 "metadata": {
  "kernelspec": {
   "display_name": "Python 3",
   "language": "python",
   "name": "python3"
  },
  "language_info": {
   "codemirror_mode": {
    "name": "ipython",
    "version": 3
   },
   "file_extension": ".py",
   "mimetype": "text/x-python",
   "name": "python",
   "nbconvert_exporter": "python",
   "pygments_lexer": "ipython3",
   "version": "3.7.3"
  }
 },
 "nbformat": 4,
 "nbformat_minor": 2
}
